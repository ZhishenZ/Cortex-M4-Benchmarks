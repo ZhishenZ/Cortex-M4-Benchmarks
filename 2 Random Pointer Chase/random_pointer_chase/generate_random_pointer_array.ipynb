{
 "cells": [
  {
   "cell_type": "markdown",
   "id": "6bda9cd0",
   "metadata": {},
   "source": [
    "# Generate a list that stores the address index of the next pointer"
   ]
  },
  {
   "cell_type": "code",
   "execution_count": 182,
   "id": "5d2d3218",
   "metadata": {},
   "outputs": [],
   "source": [
    "# generate a random list from 1 to n -1\n",
    "random.seed(5)\n",
    "# n is the number of elements\n",
    "n = 5\n",
    "random_list = list(range(1,n))\n",
    "random.shuffle(random_list)\n"
   ]
  },
  {
   "cell_type": "code",
   "execution_count": 183,
   "id": "fce8fd59",
   "metadata": {},
   "outputs": [],
   "source": [
    "# in this pointer_list the content is the address of the next pointer in our array\n",
    "pointer_list = [None]*n\n",
    "\n",
    "#start with the first index\n",
    "index = 0\n",
    "\n",
    "while(len(random_list)):\n",
    "    address = random_list.pop()\n",
    "    pointer_list[index] = address\n",
    "    index = address\n",
    "    \n",
    "#the last element has None (NULL in Cc)\n",
    "pointer_list[index] = None"
   ]
  },
  {
   "cell_type": "markdown",
   "id": "e608738e",
   "metadata": {},
   "source": [
    "### we want to create something like this:\n",
    "const void * const pointers[5] = { &pointers[3], NULL, &pointers[1], &pointers[4], &pointers[2]}<br>\n",
    "const void * const p0 = &pointers[0]; <br>\n",
    "<br>\n",
    "from our `pointer_list`\n",
    "\n"
   ]
  },
  {
   "cell_type": "code",
   "execution_count": 184,
   "id": "4fb6ef67",
   "metadata": {},
   "outputs": [],
   "source": [
    "random_pointer_array = \"const void * const pointers[\"+str(n)+\"] = {\"\n",
    "for i in range(len(pointer_list)-1): #last element has no ,\n",
    "    if(i%50==0):\n",
    "        random_pointer_array += \"\\n\"\n",
    "    if (pointer_list[i]):\n",
    "        random_pointer_array += \"&pointers[\"+str(pointer_list[i])+\"], \"\n",
    "    else:\n",
    "        random_pointer_array += \"NULL, \"\n",
    "#our last element\n",
    "random_pointer_array += \"&pointers[\"+str(pointer_list[-1])+\"]};\"\n",
    "        "
   ]
  },
  {
   "cell_type": "code",
   "execution_count": 185,
   "id": "9346d25e",
   "metadata": {},
   "outputs": [
    {
     "name": "stdout",
     "output_type": "stream",
     "text": [
      "const void * const pointers[5] = {\n",
      "&pointers[3], NULL, &pointers[1], &pointers[4], &pointers[2]};\n"
     ]
    }
   ],
   "source": [
    "print(random_pointer_array) "
   ]
  },
  {
   "cell_type": "code",
   "execution_count": null,
   "id": "08c984f5",
   "metadata": {},
   "outputs": [],
   "source": []
  }
 ],
 "metadata": {
  "kernelspec": {
   "display_name": "Python 3 (ipykernel)",
   "language": "python",
   "name": "python3"
  },
  "language_info": {
   "codemirror_mode": {
    "name": "ipython",
    "version": 3
   },
   "file_extension": ".py",
   "mimetype": "text/x-python",
   "name": "python",
   "nbconvert_exporter": "python",
   "pygments_lexer": "ipython3",
   "version": "3.8.10"
  }
 },
 "nbformat": 4,
 "nbformat_minor": 5
}
